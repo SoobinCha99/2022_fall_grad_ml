{
 "cells": [
  {
   "cell_type": "code",
   "execution_count": 174,
   "metadata": {},
   "outputs": [],
   "source": [
    "import torch \n",
    "import torchvision\n",
    "from torch.utils.data import Dataset\n",
    "import cv2\n",
    "import glob\n",
    "from sklearn.model_selection import train_test_split\n",
    "from tqdm import tqdm"
   ]
  },
  {
   "cell_type": "code",
   "execution_count": 147,
   "metadata": {},
   "outputs": [],
   "source": [
    "data_path_1_po = './raw_data/validation_data/고양이/안구/일반/각막궤양/유'\n",
    "data_path_1_ne = './raw_data/validation_data/고양이/안구/일반/각막궤양/무'\n",
    "\n",
    "data_path_2_po = './raw_data/validation_data/고양이/안구/일반/각막부골편/유'\n",
    "data_path_2_ne = './raw_data/validation_data/고양이/안구/일반/각막부골편/무'\n",
    "\n",
    "data_path_3_po = './raw_data/validation_data/고양이/안구/일반/결막염/유'\n",
    "data_path_3_ne = './raw_data/validation_data/고양이/안구/일반/결막염/무'\n",
    "\n",
    "data_path_4_po = './raw_data/validation_data/고양이/안구/일반/비궤양성각막염/유'\n",
    "data_path_4_ne = './raw_data/validation_data/고양이/안구/일반/비궤양성각막염/무'\n",
    "\n",
    "data_path_5_po = './raw_data/validation_data/고양이/안구/일반/안검염/유'\n",
    "data_path_5_ne = './raw_data/validation_data/고양이/안구/일반/안검염/무'\n",
    "\n",
    "paths = [data_path_1_po, data_path_1_ne, data_path_2_po, data_path_2_ne, data_path_3_po, data_path_3_ne, data_path_4_po,\n",
    "         data_path_4_ne, data_path_5_po, data_path_5_ne ]\n"
   ]
  },
  {
   "cell_type": "code",
   "execution_count": 153,
   "metadata": {},
   "outputs": [
    {
     "name": "stdout",
     "output_type": "stream",
     "text": [
      "2918\n",
      "2918\n"
     ]
    }
   ],
   "source": [
    "image_path = []\n",
    "labels = []\n",
    "\n",
    "def get_data_path(data_path):\n",
    "    for path in glob.glob(data_path+'/*'): \n",
    "        if path[-3:]==\"jpg\":\n",
    "            image_path.append(path)\n",
    "            if data_path[-1:] == \"무\":\n",
    "                labels.append(\"무\")\n",
    "            else:\n",
    "                labels.append(data_path.split('/')[6])\n",
    "\n",
    "for path in paths: \n",
    "    get_data_path(path)\n",
    "\n",
    "print(len(labels))\n",
    "print(len(image_path))"
   ]
  },
  {
   "cell_type": "code",
   "execution_count": 168,
   "metadata": {},
   "outputs": [
    {
     "name": "stdout",
     "output_type": "stream",
     "text": [
      "[4, 4, 4, 4, 4]\n",
      "2918\n"
     ]
    }
   ],
   "source": [
    "label_mappings = {\"무\":0,\"각막부골편\":1,\"안검염\":2,\"비궤양성각막염\":3,\"각막궤양\":4,\"결막염\":5}\n",
    "\n",
    "def label_encoder(labels,mappings):\n",
    "    encoded_labels = []\n",
    "    for label in labels:\n",
    "        temp = mappings[label]\n",
    "        encoded_labels.append(temp)\n",
    "\n",
    "    return encoded_labels\n",
    "\n",
    "encoded_labels = label_encoder(labels, label_mappings)\n",
    "print(encoded_labels[:5])\n",
    "print(len(encoded_labels))"
   ]
  },
  {
   "cell_type": "code",
   "execution_count": 177,
   "metadata": {},
   "outputs": [
    {
     "name": "stdout",
     "output_type": "stream",
     "text": [
      "2100\n",
      "2100\n",
      "234\n",
      "234\n",
      "584\n",
      "584\n"
     ]
    }
   ],
   "source": [
    "train_image_path, test_image_path, train_label, test_label = train_test_split(image_path, encoded_labels, test_size=0.2,shuffle=True,stratify=encoded_labels )\n",
    "train_image_path, val_image_path, train_label, val_label = train_test_split(train_image_path,train_label,test_size=0.1,shuffle=True,stratify=train_label)\n",
    "\n",
    "print(len(train_image_path))\n",
    "print(len(train_label))\n",
    "print(len(val_image_path))\n",
    "print(len(val_label))\n",
    "print(len(test_image_path))\n",
    "print(len(test_label))"
   ]
  },
  {
   "cell_type": "code",
   "execution_count": 196,
   "metadata": {},
   "outputs": [],
   "source": [
    "class CustomDataset(Dataset):\n",
    "    def __init__(self, image_paths,labels,transform=False): \n",
    "        self.image_paths = image_paths\n",
    "        self.labels = labels \n",
    "        self.transform = transform\n",
    "    def __len__(self):\n",
    "        return len(self.image_paths) \n",
    "    \n",
    "    def __getitem__(self,idx):\n",
    "        image_filepath = self.image_paths[idx]\n",
    "        image = cv2.imread(image_filepath)\n",
    "\n",
    "        label = self.labels\n",
    "\n",
    "        if self.transform is not None: \n",
    "            image = self.transform(image)\n",
    "\n",
    "        return image, label "
   ]
  },
  {
   "cell_type": "code",
   "execution_count": null,
   "metadata": {},
   "outputs": [],
   "source": []
  }
 ],
 "metadata": {
  "kernelspec": {
   "display_name": "Python 3.7.13 ('cv_env')",
   "language": "python",
   "name": "python3"
  },
  "language_info": {
   "codemirror_mode": {
    "name": "ipython",
    "version": 3
   },
   "file_extension": ".py",
   "mimetype": "text/x-python",
   "name": "python",
   "nbconvert_exporter": "python",
   "pygments_lexer": "ipython3",
   "version": "3.7.13"
  },
  "orig_nbformat": 4,
  "vscode": {
   "interpreter": {
    "hash": "586ba681367a1de5c69841e1d03f23cf0cc3565eaf3251128b3cac00ea81a639"
   }
  }
 },
 "nbformat": 4,
 "nbformat_minor": 2
}

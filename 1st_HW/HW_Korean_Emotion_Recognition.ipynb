{
  "cells": [
    {
      "cell_type": "markdown",
      "metadata": {
        "id": "TbGB71XB1MVD"
      },
      "source": [
        "# 1. 라이브러리 설치"
      ]
    },
    {
      "cell_type": "code",
      "execution_count": null,
      "metadata": {
        "id": "-q_7_8lj0PWA"
      },
      "outputs": [],
      "source": [
        "'''!pip install torch\n",
        "!pip install transformers\n",
        "!pip install numpy'''"
      ]
    },
    {
      "cell_type": "code",
      "execution_count": 20,
      "metadata": {
        "id": "p1o9Rzdp0PWC"
      },
      "outputs": [],
      "source": [
        "import torch\n",
        "from torch import nn\n",
        "import torch.nn.functional as F\n",
        "import torch.optim as optim\n",
        "from torch.utils.data import Dataset, DataLoader\n",
        "import numpy as np\n",
        "import pandas as pd\n",
        "from tqdm import tqdm, tqdm_notebook\n",
        "from transformers import AutoModel, AutoTokenizer, AdamW\n",
        "from transformers import get_linear_schedule_with_warmup\n",
        "import warnings\n",
        "import os\n",
        "warnings.filterwarnings('ignore')\n",
        "os.environ[\"TOKENIZERS_PARALLELISM\"] = \"false\""
      ]
    },
    {
      "cell_type": "markdown",
      "metadata": {
        "id": "gMX6ui-o1l3b"
      },
      "source": [
        "# 2. 데이터 로드\n",
        "\n",
        "Task 1. 과제 Task 1에서 만든 파일을 본인의 구글 드라이브에 올린 후 파일의 URL을 Data URLs에 각각 맞춰 업데이트 해주세요.\n",
        "기존에 적혀진 URL은 테스트를 위해 적은 양의 데이터만을 가진 것입니다."
      ]
    },
    {
      "cell_type": "code",
      "execution_count": 21,
      "metadata": {},
      "outputs": [
        {
          "data": {
            "text/plain": [
              "'# Task 1\\n# Data URLs\\ntraining_data_url = \"https://drive.google.com/file/d/1qCQg3_4ZCAKy0duN51sKCNdcdvmYNnTo/view?usp=sharing\"\\nvalid_data_url = \"https://drive.google.com/file/d/1rrQkVPkP2XSrGAlljhWs9VKAlSizDc3O/view?usp=sharing\"\\ntest_data_url = \"https://drive.google.com/file/d/1z4GSfOABgyyX7Lp1oPQp2G33T3F6Majx/view?usp=sharing\"\\n\\n# Training Data\\ntraining_data_file_id = training_data_url.split(\"/\")[-2]\\n!gdown $training_data_file_id\\n\\n# Validation Data\\nvalid_data_file_id = valid_data_url.split(\"/\")[-2]\\n!gdown $valid_data_file_id\\n\\n# Test Data\\ntest_data_file_id = test_data_url.split(\"/\")[-2]\\n!gdown $test_data_file_id'"
            ]
          },
          "execution_count": 21,
          "metadata": {},
          "output_type": "execute_result"
        }
      ],
      "source": [
        "'''# Task 1\n",
        "# Data URLs\n",
        "training_data_url = \"https://drive.google.com/file/d/1qCQg3_4ZCAKy0duN51sKCNdcdvmYNnTo/view?usp=sharing\"\n",
        "valid_data_url = \"https://drive.google.com/file/d/1rrQkVPkP2XSrGAlljhWs9VKAlSizDc3O/view?usp=sharing\"\n",
        "test_data_url = \"https://drive.google.com/file/d/1z4GSfOABgyyX7Lp1oPQp2G33T3F6Majx/view?usp=sharing\"\n",
        "\n",
        "# Training Data\n",
        "training_data_file_id = training_data_url.split(\"/\")[-2]\n",
        "!gdown $training_data_file_id\n",
        "\n",
        "# Validation Data\n",
        "valid_data_file_id = valid_data_url.split(\"/\")[-2]\n",
        "!gdown $valid_data_file_id\n",
        "\n",
        "# Test Data\n",
        "test_data_file_id = test_data_url.split(\"/\")[-2]\n",
        "!gdown $test_data_file_id'''"
      ]
    },
    {
      "cell_type": "code",
      "execution_count": 22,
      "metadata": {
        "id": "n0zdLsTn0PWE"
      },
      "outputs": [],
      "source": [
        "train = pd.read_csv(\"./processed_data/train.csv\")\n",
        "valid = pd.read_csv(\"./processed_data/valid.csv\")\n",
        "test = pd.read_csv(\"./processed_data/test.csv\")"
      ]
    },
    {
      "cell_type": "code",
      "execution_count": 23,
      "metadata": {
        "id": "ud_WMQc60PWE"
      },
      "outputs": [
        {
          "name": "stdout",
          "output_type": "stream",
          "text": [
            "(36744, 2)\n",
            "(4083, 2)\n",
            "(5122, 2)\n"
          ]
        }
      ],
      "source": [
        "print(train.shape)\n",
        "print(valid.shape)\n",
        "print(test.shape)"
      ]
    },
    {
      "cell_type": "code",
      "execution_count": 24,
      "metadata": {
        "id": "W-YIpuMAtZ5y"
      },
      "outputs": [
        {
          "data": {
            "text/html": [
              "<div>\n",
              "<style scoped>\n",
              "    .dataframe tbody tr th:only-of-type {\n",
              "        vertical-align: middle;\n",
              "    }\n",
              "\n",
              "    .dataframe tbody tr th {\n",
              "        vertical-align: top;\n",
              "    }\n",
              "\n",
              "    .dataframe thead th {\n",
              "        text-align: right;\n",
              "    }\n",
              "</style>\n",
              "<table border=\"1\" class=\"dataframe\">\n",
              "  <thead>\n",
              "    <tr style=\"text-align: right;\">\n",
              "      <th></th>\n",
              "      <th>sentence</th>\n",
              "      <th>label</th>\n",
              "    </tr>\n",
              "  </thead>\n",
              "  <tbody>\n",
              "    <tr>\n",
              "      <th>0</th>\n",
              "      <td>직장에 새로운 신입사원이 입사를 했는데 알려줄게 너무 많아.</td>\n",
              "      <td>0</td>\n",
              "    </tr>\n",
              "    <tr>\n",
              "      <th>1</th>\n",
              "      <td>집 앞에 슈퍼를 갈 때도 나를 자꾸 데려가.</td>\n",
              "      <td>0</td>\n",
              "    </tr>\n",
              "    <tr>\n",
              "      <th>2</th>\n",
              "      <td>취직한 줄 알았던 아들이 알고 보니 백수였어. 오늘 피시방에서 놀고 있는 걸 발견했어.</td>\n",
              "      <td>3</td>\n",
              "    </tr>\n",
              "    <tr>\n",
              "      <th>3</th>\n",
              "      <td>내 악성 빈혈이 우리 손녀한테 유전되는 게 아닐까 걱정되네.</td>\n",
              "      <td>4</td>\n",
              "    </tr>\n",
              "    <tr>\n",
              "      <th>4</th>\n",
              "      <td>내 건강에 관련하여 고민이 되는 일이 있어.</td>\n",
              "      <td>2</td>\n",
              "    </tr>\n",
              "  </tbody>\n",
              "</table>\n",
              "</div>"
            ],
            "text/plain": [
              "                                           sentence  label\n",
              "0                 직장에 새로운 신입사원이 입사를 했는데 알려줄게 너무 많아.      0\n",
              "1                          집 앞에 슈퍼를 갈 때도 나를 자꾸 데려가.      0\n",
              "2  취직한 줄 알았던 아들이 알고 보니 백수였어. 오늘 피시방에서 놀고 있는 걸 발견했어.      3\n",
              "3                 내 악성 빈혈이 우리 손녀한테 유전되는 게 아닐까 걱정되네.      4\n",
              "4                          내 건강에 관련하여 고민이 되는 일이 있어.      2"
            ]
          },
          "execution_count": 24,
          "metadata": {},
          "output_type": "execute_result"
        }
      ],
      "source": [
        "train.head()"
      ]
    },
    {
      "cell_type": "code",
      "execution_count": 25,
      "metadata": {
        "id": "r9Am41du0PWH"
      },
      "outputs": [
        {
          "name": "stdout",
          "output_type": "stream",
          "text": [
            "cuda:0\n"
          ]
        }
      ],
      "source": [
        "device = torch.device(\"cuda:0\")\n",
        "print(device)"
      ]
    },
    {
      "cell_type": "code",
      "execution_count": 44,
      "metadata": {},
      "outputs": [
        {
          "data": {
            "text/plain": [
              "'NVIDIA GeForce RTX 3060'"
            ]
          },
          "execution_count": 44,
          "metadata": {},
          "output_type": "execute_result"
        }
      ],
      "source": [
        "torch.cuda.get_device_name(0)"
      ]
    },
    {
      "cell_type": "markdown",
      "metadata": {
        "id": "ziU0btCD1xES"
      },
      "source": [
        "# 3. 모델 정의"
      ]
    },
    {
      "cell_type": "code",
      "execution_count": 26,
      "metadata": {
        "id": "nFDMXiAr0PWG"
      },
      "outputs": [
        {
          "name": "stderr",
          "output_type": "stream",
          "text": [
            "Some weights of the model checkpoint at klue/roberta-small were not used when initializing RobertaModel: ['lm_head.bias', 'lm_head.decoder.weight', 'lm_head.layer_norm.bias', 'lm_head.layer_norm.weight', 'lm_head.dense.weight', 'lm_head.decoder.bias', 'lm_head.dense.bias']\n",
            "- This IS expected if you are initializing RobertaModel from the checkpoint of a model trained on another task or with another architecture (e.g. initializing a BertForSequenceClassification model from a BertForPreTraining model).\n",
            "- This IS NOT expected if you are initializing RobertaModel from the checkpoint of a model that you expect to be exactly identical (initializing a BertForSequenceClassification model from a BertForSequenceClassification model).\n",
            "Some weights of RobertaModel were not initialized from the model checkpoint at klue/roberta-small and are newly initialized: ['roberta.pooler.dense.bias', 'roberta.pooler.dense.weight']\n",
            "You should probably TRAIN this model on a down-stream task to be able to use it for predictions and inference.\n"
          ]
        }
      ],
      "source": [
        "roberta = AutoModel.from_pretrained(\"klue/roberta-small\")\n",
        "tokenizer = AutoTokenizer.from_pretrained(\"klue/roberta-small\")"
      ]
    },
    {
      "cell_type": "markdown",
      "metadata": {
        "id": "BJdp8j6BOUDa"
      },
      "source": [
        "Task 2. classifier에 맞는 내용을 코딩해주세요.\n",
        "\n",
        "Hint: https://pytorch.org/docs/stable/generated/torch.nn.Linear.html "
      ]
    },
    {
      "cell_type": "code",
      "execution_count": 27,
      "metadata": {
        "id": "VH5A1QSA0PWH"
      },
      "outputs": [],
      "source": [
        "class RoBERTaClassifier(nn.Module):\n",
        "    def __init__(self, roberta, hidden_size=768, num_classes=2):\n",
        "        super(RoBERTaClassifier, self).__init__()\n",
        "        self.roberta = roberta\n",
        "        self.classifier = nn.Linear(hidden_size, num_classes) # Task 2\n",
        "\n",
        "    def forward(self, input_ids, attention_masks):\n",
        "        outputs = self.roberta(input_ids=input_ids, attention_mask=attention_masks)\n",
        "        return self.classifier(outputs.pooler_output)"
      ]
    },
    {
      "cell_type": "code",
      "execution_count": 28,
      "metadata": {
        "id": "GeKYJjiu0PWI"
      },
      "outputs": [],
      "source": [
        "model = RoBERTaClassifier(roberta=roberta).to(device)"
      ]
    },
    {
      "cell_type": "markdown",
      "metadata": {
        "id": "KHxAUVeT1tWa"
      },
      "source": [
        "# 4. 데이터셋 정의\n",
        "\n",
        "Task 3. ``document`` 변수에 적합한 코드를 작성하세요.\n",
        "\n",
        "Hint: ``self.labels`` 코드를 참고하세요."
      ]
    },
    {
      "cell_type": "code",
      "execution_count": 29,
      "metadata": {
        "id": "iYvFfxt00PWG"
      },
      "outputs": [],
      "source": [
        "class KERDataset(Dataset):\n",
        "    def __init__(self, dataset, tokenizer):\n",
        "        self.tokenizer = tokenizer\n",
        "        self.dataset = dataset\n",
        "        document = self.dataset['sentence'].tolist() # Task 3\n",
        "        inputs = tokenizer(document, padding=True)\n",
        "        self.input_ids = inputs['input_ids']\n",
        "        self.attention_masks = inputs['attention_mask']\n",
        "        self.labels = self.dataset['label'].tolist()\n",
        "\n",
        "    def __len__(self):\n",
        "        return len(self.input_ids)\n",
        "\n",
        "    def __getitem__(self, idx):\n",
        "        return (self.input_ids[idx], self.attention_masks[idx], self.labels[idx])       "
      ]
    },
    {
      "cell_type": "code",
      "execution_count": 30,
      "metadata": {
        "id": "VD6n0SGk0PWG"
      },
      "outputs": [],
      "source": [
        "def collate_fn(batch):\n",
        "    input_ids = [item[0] for item in batch]\n",
        "    attention_masks = [item[1] for item in batch]\n",
        "    labels = [item[2] for item in batch]\n",
        "    return torch.LongTensor(input_ids), torch.LongTensor(attention_masks), torch.FloatTensor(labels)"
      ]
    },
    {
      "cell_type": "code",
      "execution_count": 31,
      "metadata": {
        "id": "L8y9g14D0PWH"
      },
      "outputs": [],
      "source": [
        "train_ds = KERDataset(train, tokenizer)\n",
        "valid_ds = KERDataset(valid, tokenizer)\n",
        "test_ds = KERDataset(test, tokenizer)"
      ]
    },
    {
      "cell_type": "code",
      "execution_count": 32,
      "metadata": {
        "id": "FW2tqja_0PWH"
      },
      "outputs": [],
      "source": [
        "batch_size = 32\n",
        "warmup_ratio = 0.1\n",
        "num_epochs = 5\n",
        "log_interval = 400\n",
        "learning_rate =  5e-5"
      ]
    },
    {
      "cell_type": "code",
      "execution_count": 39,
      "metadata": {
        "id": "snpdWgOt0PWH"
      },
      "outputs": [],
      "source": [
        "train_dataloader = torch.utils.data.DataLoader(train_ds, batch_size=batch_size, num_workers=0, collate_fn=collate_fn)\n",
        "valid_dataloader = torch.utils.data.DataLoader(valid_ds, batch_size=batch_size, num_workers=0, collate_fn=collate_fn)\n",
        "test_dataloader = torch.utils.data.DataLoader(test_ds, batch_size=batch_size, num_workers=0, collate_fn=collate_fn)"
      ]
    },
    {
      "cell_type": "code",
      "execution_count": 40,
      "metadata": {
        "id": "PDMCLfaF0PWI"
      },
      "outputs": [],
      "source": [
        "total_steps = len(train_dataloader) * num_epochs\n",
        "warmup_step = int(total_steps * warmup_ratio)"
      ]
    },
    {
      "cell_type": "code",
      "execution_count": 41,
      "metadata": {
        "id": "4xgiq5_A0PWI"
      },
      "outputs": [],
      "source": [
        "optimizer = AdamW(model.parameters(), lr=learning_rate)\n",
        "scheduler = get_linear_schedule_with_warmup(optimizer, \n",
        "                                            num_warmup_steps = warmup_step,\n",
        "                                            num_training_steps = total_steps)\n",
        "loss_fn = nn.CrossEntropyLoss()"
      ]
    },
    {
      "cell_type": "markdown",
      "metadata": {
        "id": "BrQJhFIC2v6a"
      },
      "source": [
        "# 5. Training"
      ]
    },
    {
      "cell_type": "code",
      "execution_count": 42,
      "metadata": {
        "id": "9zvF6LoD0PWI"
      },
      "outputs": [],
      "source": [
        "def calc_accuracy(X,Y):\n",
        "    correct = 0\n",
        "    X, Y = X.tolist(), Y.tolist()\n",
        "    for pred, label in zip(X, Y):\n",
        "        if pred.index(max(pred)) == label.index(max(label)):\n",
        "            correct += 1\n",
        "    train_acc = correct/len(X)\n",
        "    return train_acc"
      ]
    },
    {
      "cell_type": "code",
      "execution_count": 45,
      "metadata": {
        "id": "enfpOsQJ0PWI"
      },
      "outputs": [
        {
          "name": "stderr",
          "output_type": "stream",
          "text": [
            "  0%|          | 1/1149 [00:00<10:52,  1.76it/s]"
          ]
        },
        {
          "name": "stdout",
          "output_type": "stream",
          "text": [
            "epoch 1 batch id 1 loss 0.4483993351459503 train acc 0.75\n"
          ]
        },
        {
          "name": "stderr",
          "output_type": "stream",
          "text": [
            " 35%|███▍      | 401/1149 [02:20<04:11,  2.97it/s]"
          ]
        },
        {
          "name": "stdout",
          "output_type": "stream",
          "text": [
            "epoch 1 batch id 401 loss 0.1895814836025238 train acc 0.8890274314214464\n"
          ]
        },
        {
          "name": "stderr",
          "output_type": "stream",
          "text": [
            " 70%|██████▉   | 801/1149 [04:34<01:57,  2.96it/s]"
          ]
        },
        {
          "name": "stdout",
          "output_type": "stream",
          "text": [
            "epoch 1 batch id 801 loss 0.2103106677532196 train acc 0.8901763420724095\n"
          ]
        },
        {
          "name": "stderr",
          "output_type": "stream",
          "text": [
            "100%|██████████| 1149/1149 [06:31<00:00,  2.94it/s]"
          ]
        },
        {
          "name": "stdout",
          "output_type": "stream",
          "text": [
            "epoch 1 train acc 0.8902850304612707\n"
          ]
        },
        {
          "name": "stderr",
          "output_type": "stream",
          "text": [
            "\n"
          ]
        },
        {
          "data": {
            "application/vnd.jupyter.widget-view+json": {
              "model_id": "e838ed9849e7416d8f3062577c0c4854",
              "version_major": 2,
              "version_minor": 0
            },
            "text/plain": [
              "  0%|          | 0/128 [00:00<?, ?it/s]"
            ]
          },
          "metadata": {},
          "output_type": "display_data"
        },
        {
          "name": "stdout",
          "output_type": "stream",
          "text": [
            "epoch 1 validation acc 0.890856291118421\n"
          ]
        },
        {
          "name": "stderr",
          "output_type": "stream",
          "text": [
            "  0%|          | 1/1149 [00:00<06:24,  2.99it/s]"
          ]
        },
        {
          "name": "stdout",
          "output_type": "stream",
          "text": [
            "epoch 2 batch id 1 loss 0.37695440649986267 train acc 0.78125\n"
          ]
        },
        {
          "name": "stderr",
          "output_type": "stream",
          "text": [
            " 35%|███▍      | 401/1149 [02:15<04:15,  2.93it/s]"
          ]
        },
        {
          "name": "stdout",
          "output_type": "stream",
          "text": [
            "epoch 2 batch id 401 loss 0.12329535186290741 train acc 0.9089775561097256\n"
          ]
        },
        {
          "name": "stderr",
          "output_type": "stream",
          "text": [
            " 70%|██████▉   | 801/1149 [04:32<01:57,  2.97it/s]"
          ]
        },
        {
          "name": "stdout",
          "output_type": "stream",
          "text": [
            "epoch 2 batch id 801 loss 0.17675809562206268 train acc 0.9079666042446941\n"
          ]
        },
        {
          "name": "stderr",
          "output_type": "stream",
          "text": [
            "100%|██████████| 1149/1149 [06:28<00:00,  2.96it/s]"
          ]
        },
        {
          "name": "stdout",
          "output_type": "stream",
          "text": [
            "epoch 2 train acc 0.9082354221061792\n"
          ]
        },
        {
          "name": "stderr",
          "output_type": "stream",
          "text": [
            "\n"
          ]
        },
        {
          "data": {
            "application/vnd.jupyter.widget-view+json": {
              "model_id": "759c53621671428ba51318556274d414",
              "version_major": 2,
              "version_minor": 0
            },
            "text/plain": [
              "  0%|          | 0/128 [00:00<?, ?it/s]"
            ]
          },
          "metadata": {},
          "output_type": "display_data"
        },
        {
          "name": "stdout",
          "output_type": "stream",
          "text": [
            "epoch 2 validation acc 0.884752775493421\n"
          ]
        },
        {
          "name": "stderr",
          "output_type": "stream",
          "text": [
            "  0%|          | 1/1149 [00:00<06:23,  2.99it/s]"
          ]
        },
        {
          "name": "stdout",
          "output_type": "stream",
          "text": [
            "epoch 3 batch id 1 loss 0.22549401223659515 train acc 0.875\n"
          ]
        },
        {
          "name": "stderr",
          "output_type": "stream",
          "text": [
            " 35%|███▍      | 401/1149 [02:14<04:10,  2.98it/s]"
          ]
        },
        {
          "name": "stdout",
          "output_type": "stream",
          "text": [
            "epoch 3 batch id 401 loss 0.1414034217596054 train acc 0.9377337905236908\n"
          ]
        },
        {
          "name": "stderr",
          "output_type": "stream",
          "text": [
            " 70%|██████▉   | 801/1149 [04:29<01:56,  2.98it/s]"
          ]
        },
        {
          "name": "stdout",
          "output_type": "stream",
          "text": [
            "epoch 3 batch id 801 loss 0.08058863878250122 train acc 0.9342618601747815\n"
          ]
        },
        {
          "name": "stderr",
          "output_type": "stream",
          "text": [
            "100%|██████████| 1149/1149 [06:26<00:00,  2.97it/s]"
          ]
        },
        {
          "name": "stdout",
          "output_type": "stream",
          "text": [
            "epoch 3 train acc 0.9337467362924282\n"
          ]
        },
        {
          "name": "stderr",
          "output_type": "stream",
          "text": [
            "\n"
          ]
        },
        {
          "data": {
            "application/vnd.jupyter.widget-view+json": {
              "model_id": "0627ab6735444409858580263b5eecd2",
              "version_major": 2,
              "version_minor": 0
            },
            "text/plain": [
              "  0%|          | 0/128 [00:00<?, ?it/s]"
            ]
          },
          "metadata": {},
          "output_type": "display_data"
        },
        {
          "name": "stdout",
          "output_type": "stream",
          "text": [
            "epoch 3 validation acc 0.879381681743421\n"
          ]
        },
        {
          "name": "stderr",
          "output_type": "stream",
          "text": [
            "  0%|          | 1/1149 [00:00<06:23,  3.00it/s]"
          ]
        },
        {
          "name": "stdout",
          "output_type": "stream",
          "text": [
            "epoch 4 batch id 1 loss 0.15516173839569092 train acc 0.9375\n"
          ]
        },
        {
          "name": "stderr",
          "output_type": "stream",
          "text": [
            " 35%|███▍      | 401/1149 [02:14<04:10,  2.98it/s]"
          ]
        },
        {
          "name": "stdout",
          "output_type": "stream",
          "text": [
            "epoch 4 batch id 401 loss 0.08782632648944855 train acc 0.9569825436408977\n"
          ]
        },
        {
          "name": "stderr",
          "output_type": "stream",
          "text": [
            " 70%|██████▉   | 801/1149 [04:29<01:58,  2.94it/s]"
          ]
        },
        {
          "name": "stdout",
          "output_type": "stream",
          "text": [
            "epoch 4 batch id 801 loss 0.18519358336925507 train acc 0.954939138576779\n"
          ]
        },
        {
          "name": "stderr",
          "output_type": "stream",
          "text": [
            "100%|██████████| 1149/1149 [06:28<00:00,  2.96it/s]"
          ]
        },
        {
          "name": "stdout",
          "output_type": "stream",
          "text": [
            "epoch 4 train acc 0.9550424281984334\n"
          ]
        },
        {
          "name": "stderr",
          "output_type": "stream",
          "text": [
            "\n"
          ]
        },
        {
          "data": {
            "application/vnd.jupyter.widget-view+json": {
              "model_id": "09c2242b844047b78e2b91e5d5e87cee",
              "version_major": 2,
              "version_minor": 0
            },
            "text/plain": [
              "  0%|          | 0/128 [00:00<?, ?it/s]"
            ]
          },
          "metadata": {},
          "output_type": "display_data"
        },
        {
          "name": "stdout",
          "output_type": "stream",
          "text": [
            "epoch 4 validation acc 0.882555509868421\n"
          ]
        },
        {
          "name": "stderr",
          "output_type": "stream",
          "text": [
            "  0%|          | 1/1149 [00:00<06:28,  2.96it/s]"
          ]
        },
        {
          "name": "stdout",
          "output_type": "stream",
          "text": [
            "epoch 5 batch id 1 loss 0.16212239861488342 train acc 0.9375\n"
          ]
        },
        {
          "name": "stderr",
          "output_type": "stream",
          "text": [
            " 35%|███▍      | 401/1149 [02:14<04:09,  3.00it/s]"
          ]
        },
        {
          "name": "stdout",
          "output_type": "stream",
          "text": [
            "epoch 5 batch id 401 loss 0.0511215403676033 train acc 0.9680486284289277\n"
          ]
        },
        {
          "name": "stderr",
          "output_type": "stream",
          "text": [
            " 70%|██████▉   | 801/1149 [04:28<01:58,  2.94it/s]"
          ]
        },
        {
          "name": "stdout",
          "output_type": "stream",
          "text": [
            "epoch 5 batch id 801 loss 0.18836916983127594 train acc 0.9657069288389513\n"
          ]
        },
        {
          "name": "stderr",
          "output_type": "stream",
          "text": [
            "100%|██████████| 1149/1149 [06:25<00:00,  2.98it/s]"
          ]
        },
        {
          "name": "stdout",
          "output_type": "stream",
          "text": [
            "epoch 5 train acc 0.9645343777197564\n"
          ]
        },
        {
          "name": "stderr",
          "output_type": "stream",
          "text": [
            "\n"
          ]
        },
        {
          "data": {
            "application/vnd.jupyter.widget-view+json": {
              "model_id": "2d72a67245f541499e4545e710b66457",
              "version_major": 2,
              "version_minor": 0
            },
            "text/plain": [
              "  0%|          | 0/128 [00:00<?, ?it/s]"
            ]
          },
          "metadata": {},
          "output_type": "display_data"
        },
        {
          "name": "stdout",
          "output_type": "stream",
          "text": [
            "epoch 5 validation acc 0.8870271381578947\n"
          ]
        }
      ],
      "source": [
        "for e in range(num_epochs):\n",
        "    train_acc = 0.0\n",
        "    valid_acc = 0.0\n",
        "    model.train()\n",
        "    for batch_id, (input_ids, attention_masks, labels) in enumerate(tqdm(train_dataloader)):\n",
        "        optimizer.zero_grad()\n",
        "        input_ids = input_ids.to(device)\n",
        "        attention_masks = attention_masks.to(device)\n",
        "        out = model(input_ids=input_ids, attention_masks=attention_masks)\n",
        "        labels = labels.tolist()\n",
        "        labels = torch.FloatTensor([[0, 1] if l == 0 else [1, 0] for l in labels]).to(device)\n",
        "        loss = loss_fn(out, labels)\n",
        "        loss.backward()\n",
        "        optimizer.step()\n",
        "        scheduler.step()  # Update learning rate schedule\n",
        "        train_acc += calc_accuracy(out, labels)\n",
        "        \n",
        "        if batch_id % log_interval == 0:\n",
        "            print(\"epoch {} batch id {} loss {} train acc {}\".format(e+1, batch_id+1, loss.data.cpu().numpy(), train_acc / (batch_id+1)))\n",
        "    print(\"epoch {} train acc {}\".format(e+1, train_acc / (batch_id+1)))\n",
        "\n",
        "    model.eval()\n",
        "    for batch_id, (input_ids, attention_masks, labels) in enumerate(tqdm_notebook(valid_dataloader)):\n",
        "        input_ids = input_ids.to(device)\n",
        "        attention_masks = attention_masks.to(device)\n",
        "        labels = torch.FloatTensor([[0, 1] if l == 0 else [1, 0] for l in labels]).to(device)\n",
        "        out = model(input_ids=input_ids, attention_masks=attention_masks)\n",
        "        valid_acc += calc_accuracy(out, labels)\n",
        "    print(\"epoch {} validation acc {}\".format(e+1, valid_acc / (batch_id+1)))"
      ]
    },
    {
      "cell_type": "markdown",
      "metadata": {
        "id": "7s8uLvZr22qz"
      },
      "source": [
        "# 6. Test"
      ]
    },
    {
      "cell_type": "code",
      "execution_count": 46,
      "metadata": {
        "id": "rUItVok30PWJ"
      },
      "outputs": [
        {
          "data": {
            "application/vnd.jupyter.widget-view+json": {
              "model_id": "b591efca5ebd4cf0a0b6eba8f931e58e",
              "version_major": 2,
              "version_minor": 0
            },
            "text/plain": [
              "  0%|          | 0/161 [00:00<?, ?it/s]"
            ]
          },
          "metadata": {},
          "output_type": "display_data"
        },
        {
          "name": "stdout",
          "output_type": "stream",
          "text": [
            "Test acc : 0.8852872670807453\n"
          ]
        }
      ],
      "source": [
        "test_acc = 0.0\n",
        "model.eval()\n",
        "for batch_id, (input_ids, attention_masks, labels) in enumerate(tqdm_notebook(test_dataloader)):\n",
        "    input_ids = input_ids.to(device)\n",
        "    attention_masks = attention_masks.to(device)\n",
        "    labels = torch.FloatTensor([[0, 1] if l == 0 else [1, 0] for l in labels]).to(device)\n",
        "    out = model(input_ids=input_ids, attention_masks=attention_masks)\n",
        "    test_acc += calc_accuracy(out, labels)\n",
        "print(\"Test acc : {}\".format(test_acc / (batch_id+1)))"
      ]
    },
    {
      "cell_type": "markdown",
      "metadata": {
        "id": "PbwHMhQhOqHh"
      },
      "source": [
        "Task 4. 기존 코드에서 문제점/아쉬운 점들에 대해서 논하세요. \n",
        "\n",
        "해당 내용은 여기 코드 및 결과와 함께 보고서로 작성해서 제출하세요.\n",
        "\n",
        "해당 문제점에 대한 해결 방안 및 이를 실제로 적용한 코드 작성 및 결과를 첨부한 경우 가산점이 있습니다."
      ]
    }
  ],
  "metadata": {
    "accelerator": "GPU",
    "colab": {
      "collapsed_sections": [],
      "provenance": [],
      "toc_visible": true
    },
    "kernelspec": {
      "display_name": "Python 3.7.13 ('nlp_env')",
      "language": "python",
      "name": "python3"
    },
    "language_info": {
      "codemirror_mode": {
        "name": "ipython",
        "version": 3
      },
      "file_extension": ".py",
      "mimetype": "text/x-python",
      "name": "python",
      "nbconvert_exporter": "python",
      "pygments_lexer": "ipython3",
      "version": "3.7.13"
    },
    "orig_nbformat": 4,
    "vscode": {
      "interpreter": {
        "hash": "3d5f8d486bd050c94a6e9429297e6669528901ab188ae91bafb7a9ea614fd771"
      }
    }
  },
  "nbformat": 4,
  "nbformat_minor": 0
}
